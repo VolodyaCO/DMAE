{
 "cells": [
  {
   "cell_type": "markdown",
   "metadata": {},
   "source": [
    "# Sparsity Assessment of DMAE\n",
    "\n",
    "In this notebook we'll assess the behavior of DMAE to different values of the softmax inverse temperature parameter $\\alpha$."
   ]
  },
  {
   "cell_type": "code",
   "execution_count": 1,
   "metadata": {},
   "outputs": [],
   "source": [
    "# Required libraries\n",
    "import tensorflow as tf\n",
    "import numpy as np\n",
    "from sklearn.cluster import KMeans\n",
    "\n",
    "import matplotlib.pyplot as plt\n",
    "from matplotlib import colors\n",
    "plt.style.use(\"ggplot\")\n",
    "%matplotlib inline\n",
    "\n",
    "# remove warnings\n",
    "import os\n",
    "os.environ['TF_CPP_MIN_LOG_LEVEL'] = '1' \n",
    "import logging\n",
    "logging.getLogger('tensorflow').disabled = True\n",
    "\n",
    "# Path of the DMAE library\n",
    "import sys\n",
    "# sys.path.append(\"/tf/home/repositorios/DMAE/\") # how to use the code in other location\n",
    "sys.path.append(\"../../\")\n",
    "import DMAE\n",
    "\n",
    "# Dataset\n",
    "from sklearn.datasets import load_digits\n",
    "\n",
    "# Setting random seed\n",
    "np.random.seed(0)\n",
    "tf.random.set_seed(0)\n",
    "gpus = tf.config.experimental.list_physical_devices('GPU')\n",
    "for gpu in gpus:\n",
    "    tf.config.experimental.set_memory_growth(gpu, True)\n",
    "# Imporing some helper functions to visualize and understand the results\n",
    "import vis_utils"
   ]
  },
  {
   "cell_type": "markdown",
   "metadata": {},
   "source": [
    "We define some hyperparameters:"
   ]
  },
  {
   "cell_type": "code",
   "execution_count": 2,
   "metadata": {},
   "outputs": [],
   "source": [
    "# Number of prototype vectors\n",
    "n_clusters = 10\n",
    "# Pretrain parameters\n",
    "pretrain_batch = 256\n",
    "pretrain_epochs = 500\n",
    "pretrain_params = {\"lr\": 1.0, \"momentum\":0.9}\n",
    "# Cluster parameters\n",
    "cluster_batch = 599\n",
    "cluster_epochs = 30\n",
    "cluster_params = {\"lr\": 1e-5}\n",
    "# Loss weights\n",
    "lambda_r = 0.01\n",
    "lambda_c = 1.0\n",
    "\n",
    "trials = 5"
   ]
  },
  {
   "cell_type": "markdown",
   "metadata": {},
   "source": [
    "In this case, we're going to use UCI ML hand-written digits dataset:"
   ]
  },
  {
   "cell_type": "code",
   "execution_count": 3,
   "metadata": {},
   "outputs": [],
   "source": [
    "data = load_digits()\n",
    "X, y = data[\"data\"], data[\"target\"]\n",
    "X = X/16.0"
   ]
  },
  {
   "cell_type": "markdown",
   "metadata": {},
   "source": [
    "First, we're going to define some function to create the models:"
   ]
  },
  {
   "cell_type": "code",
   "execution_count": 4,
   "metadata": {},
   "outputs": [],
   "source": [
    "def make_autoencoder(train=False):\n",
    "    act = \"relu\"\n",
    "    init = tf.keras.initializers.VarianceScaling(scale=1./3., mode='fan_in', distribution='uniform')\n",
    "    encoder = tf.keras.models.Sequential([tf.keras.layers.Dense(256, activation=act, input_shape=(64,), kernel_initializer=init),\n",
    "                                          tf.keras.layers.Dense(256, activation=act, kernel_initializer=init),\n",
    "                                          tf.keras.layers.Dense(10, activation=\"linear\", kernel_initializer=init)])\n",
    "    decoder = tf.keras.models.Sequential([tf.keras.layers.Dense(256, activation=act, input_shape=(10,), kernel_initializer=init),\n",
    "                                          tf.keras.layers.Dense(256, activation=act, kernel_initializer=init),\n",
    "                                          tf.keras.layers.Dense(64, activation=\"linear\", kernel_initializer=init)])\n",
    "    inp = tf.keras.layers.Input(shape=(64, ))\n",
    "    out = decoder(encoder(inp))\n",
    "    autoencoder = tf.keras.Model(inputs=inp, outputs=out)\n",
    "    autoencoder.compile(loss=\"mse\", optimizer=tf.optimizers.SGD(**pretrain_params))\n",
    "    if train:\n",
    "        autoencoder.fit(X, X, epochs=pretrain_epochs, batch_size=pretrain_batch, verbose=False)\n",
    "    return encoder, decoder, autoencoder"
   ]
  },
  {
   "cell_type": "code",
   "execution_count": 5,
   "metadata": {},
   "outputs": [],
   "source": [
    "def make_dmae(encoder, decoder, al, pretrainer):\n",
    "    inp = tf.keras.layers.Input(shape=(64, ))\n",
    "    h = encoder(inp)\n",
    "    theta_tilde = DMAE.Layers.DissimilarityMixtureAutoencoderCov(al, n_clusters, batch_size=cluster_batch,\n",
    "                                                                 initializers={\"centers\": DMAE.Initializers.InitKMeans(pretrainer),\n",
    "                                                                               \"cov\": DMAE.Initializers.InitKMeansCov(pretrainer, X_latent, n_clusters),\n",
    "                                                                               \"mixers\": tf.keras.initializers.Constant(1.0)},\n",
    "                                                                 trainable = {\"centers\": True, \"cov\":True, \"mixers\":True},\n",
    "                                                                 dissimilarity=dis, grad_modifier=1)(h)\n",
    "    x_tilde = decoder(theta_tilde[0])\n",
    "    # defining keras model\n",
    "    full_model = tf.keras.Model(inputs=[inp], outputs=x_tilde)\n",
    "    loss1 = dmae_loss(h, *theta_tilde)\n",
    "    loss2 = tf.losses.mse(inp, x_tilde)\n",
    "    loss = lambda_c*loss1+lambda_r*loss2\n",
    "    full_model.add_loss(loss)\n",
    "    full_model.compile(optimizer=tf.optimizers.Adam(**cluster_params))\n",
    "    full_model.fit(X, epochs=cluster_epochs, batch_size=cluster_batch, verbose=False)\n",
    "    return full_model"
   ]
  },
  {
   "cell_type": "code",
   "execution_count": 6,
   "metadata": {},
   "outputs": [],
   "source": [
    "def make_dm_encoder(encoder, al, full_model):\n",
    "    inp = tf.keras.layers.Input(shape=(64,))\n",
    "    h = encoder(inp)\n",
    "    assigns = DMAE.Layers.DissimilarityMixtureEncoderCov(al, n_clusters=n_clusters,\n",
    "                                                         dissimilarity=dis, batch_size=cluster_batch,\n",
    "                                                         trainable={\"centers\":False, \"cov\":False, \"mixers\":False})(h)\n",
    "    full_encoder = tf.keras.Model(inputs=[inp], outputs=[assigns])\n",
    "    full_encoder.layers[-1].set_weights(full_model.layers[2].get_weights())\n",
    "    return full_encoder"
   ]
  },
  {
   "cell_type": "markdown",
   "metadata": {},
   "source": [
    "We'll solve this problem using the Mahalanobis distance (includes the covariances):"
   ]
  },
  {
   "cell_type": "code",
   "execution_count": 7,
   "metadata": {},
   "outputs": [],
   "source": [
    "dis = DMAE.Dissimilarities.mahalanobis\n",
    "dmae_loss = DMAE.Losses.mahalanobis_loss\n",
    "dis_name = \"Mahalanobis\""
   ]
  },
  {
   "cell_type": "markdown",
   "metadata": {},
   "source": [
    "First, we pretrain the autoencoders:"
   ]
  },
  {
   "cell_type": "code",
   "execution_count": 8,
   "metadata": {},
   "outputs": [],
   "source": [
    "acc_kmeans = []\n",
    "for trial in range(trials):\n",
    "    encoder, decoder, autoencoder = make_autoencoder(True)\n",
    "    autoencoder.save_weights(f\"ae_{trial}.h5\")\n",
    "    # Train KMeans to pretrain DMAE\n",
    "    X_latent = encoder.predict(X)\n",
    "    pretrainer = KMeans(10).fit(X_latent)\n",
    "    preds = pretrainer.predict(X_latent)\n",
    "    # Evaluate AE+KMeans\n",
    "    acc_kmeans.append(DMAE.Metrics.unsupervised_classification_accuracy(y, preds))"
   ]
  },
  {
   "cell_type": "markdown",
   "metadata": {},
   "source": [
    "Now, DMAE is trained:"
   ]
  },
  {
   "cell_type": "code",
   "execution_count": 9,
   "metadata": {},
   "outputs": [
    {
     "name": "stdout",
     "output_type": "stream",
     "text": [
      "1/15\n",
      "WARNING: AutoGraph could not transform <bound method DissimilarityMixtureAutoencoderCov.call of <DMAE.Layers.DissimilarityMixtureAutoencoderCov object at 0x7f218d3b9c88>> and will run it as-is.\n",
      "Cause: mangled names are not yet supported\n",
      "To silence this warning, decorate the function with @tf.autograph.experimental.do_not_convert\n",
      "WARNING: AutoGraph could not transform <bound method DissimilarityMixtureEncoderCov.call of <DMAE.Layers.DissimilarityMixtureEncoderCov object at 0x7f208829da58>> and will run it as-is.\n",
      "Cause: mangled names are not yet supported\n",
      "To silence this warning, decorate the function with @tf.autograph.experimental.do_not_convert\n",
      "2/15\n",
      "3/15\n",
      "4/15\n",
      "5/15\n",
      "6/15\n",
      "7/15\n",
      "8/15\n",
      "9/15\n",
      "10/15\n",
      "11/15\n",
      "12/15\n",
      "13/15\n",
      "14/15\n",
      "15/15\n"
     ]
    }
   ],
   "source": [
    "alpha = np.logspace(0, 4, 15)\n",
    "acc_dmae = []\n",
    "for i, al in enumerate(alpha):\n",
    "    print(f\"{i+1}/{alpha.size}\")\n",
    "    cur_kmeans = []; cur_dmae= []\n",
    "    for trial in range(trials):\n",
    "        # make autoencoder\n",
    "        encoder, decoder, autoencoder = make_autoencoder()\n",
    "        autoencoder.load_weights(f\"ae_{trial}.h5\")\n",
    "        X_latent = encoder.predict(X)\n",
    "        pretrainer = KMeans(10).fit(X_latent)\n",
    "        # Make full model\n",
    "        full_model = make_dmae(encoder, decoder, al, pretrainer)\n",
    "        full_encoder = make_dm_encoder(encoder, al, full_model)\n",
    "        # Evaluate the full model\n",
    "        assigns = full_encoder.predict(X, batch_size=cluster_batch)\n",
    "        y_pred = np.argmax(assigns, axis=1)\n",
    "        cur_dmae.append(DMAE.Metrics.unsupervised_classification_accuracy(y, y_pred))\n",
    "    acc_dmae.append((np.mean(cur_dmae), np.std(cur_dmae)))"
   ]
  },
  {
   "cell_type": "code",
   "execution_count": 10,
   "metadata": {},
   "outputs": [],
   "source": [
    "acc_kmeans = np.array(acc_kmeans)\n",
    "acc_dmae = np.array(acc_dmae)"
   ]
  },
  {
   "cell_type": "code",
   "execution_count": 15,
   "metadata": {},
   "outputs": [
    {
     "data": {
      "text/plain": [
       "<matplotlib.legend.Legend at 0x7f1ef4313588>"
      ]
     },
     "execution_count": 15,
     "metadata": {},
     "output_type": "execute_result"
    },
    {
     "data": {
      "image/png": "[encoded data removed]",
      "text/plain": [
       "<Figure size 720x432 with 1 Axes>"
      ]
     },
     "metadata": {
      "needs_background": "light"
     },
     "output_type": "display_data"
    }
   ],
   "source": [
    "fig, ax = plt.subplots(1, 1, figsize=(10, 6))\n",
    "kmeans_mean = np.ones_like(alpha)*acc_kmeans.mean()\n",
    "kmeans_std = acc_kmeans.std()\n",
    "ax.semilogx(alpha, kmeans_mean, c=\"k\", label=\"AE+KMeans\")\n",
    "ax.fill_between(alpha, kmeans_mean+kmeans_std, kmeans_mean-kmeans_std, alpha=0.2, color=\"k\")\n",
    "ax.semilogx(alpha, acc_dmae[:, 0], c=\"r\", label=\"DMAE\")\n",
    "ax.fill_between(alpha, acc_dmae[:,0]+acc_dmae[:,1], acc_dmae[:,0]-acc_dmae[:,1], alpha=0.2, color=\"r\")\n",
    "ax.set_xlabel(r\"$\\alpha$\")\n",
    "ax.set_ylabel(\"ACC\")\n",
    "ax.set_xlim([1, 100])\n",
    "ax.set_ylim([0.72, 0.87])\n",
    "ax.legend()"
   ]
  }
 ],
 "metadata": {
  "kernelspec": {
   "display_name": "Python 3",
   "language": "python",
   "name": "python3"
  },
  "language_info": {
   "codemirror_mode": {
    "name": "ipython",
    "version": 3
   },
   "file_extension": ".py",
   "mimetype": "text/x-python",
   "name": "python",
   "nbconvert_exporter": "python",
   "pygments_lexer": "ipython3",
   "version": "3.6.9"
  }
 },
 "nbformat": 4,
 "nbformat_minor": 4
}
